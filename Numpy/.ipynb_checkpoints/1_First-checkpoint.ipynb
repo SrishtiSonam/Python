{
 "cells": [
  {
   "cell_type": "code",
   "execution_count": 5,
   "id": "887fb427-66ac-4f5e-8c2f-3ff4a6378b14",
   "metadata": {},
   "outputs": [
    {
     "name": "stdout",
     "output_type": "stream",
     "text": [
      "hello\n"
     ]
    }
   ],
   "source": [
    "print(\"hello\")\n",
    "# Shift + Enter -> to run this cell + new cell\n",
    "# Ctrl + Enter -> to run this cell only"
   ]
  },
  {
   "cell_type": "code",
   "execution_count": 3,
   "id": "fe3415f7-ec79-4bdf-850c-79283e776d3a",
   "metadata": {},
   "outputs": [],
   "source": [
    "import numpy as np"
   ]
  },
  {
   "cell_type": "code",
   "execution_count": 6,
   "id": "cd77be39-ad78-49f9-b8d1-1b4f8afe9c24",
   "metadata": {},
   "outputs": [
    {
     "name": "stdout",
     "output_type": "stream",
     "text": [
      "[10 30 50]\n",
      "<class 'numpy.ndarray'>\n"
     ]
    }
   ],
   "source": [
    "arr1 = np.array([10,30,50])\n",
    "print(arr1)\n",
    "print(type(arr1))\n",
    "# ndarray - n dimensional array"
   ]
  },
  {
   "cell_type": "code",
   "execution_count": 10,
   "id": "fdc8fe31-90ae-411b-90d9-79e2919f0575",
   "metadata": {},
   "outputs": [
    {
     "name": "stdout",
     "output_type": "stream",
     "text": [
      "[[ 1  2  3  4]\n",
      " [ 5  6  7  8]\n",
      " [ 9 10 11 12]]\n",
      "<class 'numpy.ndarray'>\n"
     ]
    }
   ],
   "source": [
    "arr2 = np.array([[1,2,3,4],[5,6,7,8],[9,10,11,12]])\n",
    "print(arr2)\n",
    "print(type(arr2))"
   ]
  },
  {
   "cell_type": "code",
   "execution_count": 11,
   "id": "f0ee4d5b-acb6-45d0-9524-3b66b6c28d49",
   "metadata": {},
   "outputs": [
    {
     "ename": "ValueError",
     "evalue": "setting an array element with a sequence. The requested array has an inhomogeneous shape after 1 dimensions. The detected shape was (3,) + inhomogeneous part.",
     "output_type": "error",
     "traceback": [
      "\u001b[1;31m---------------------------------------------------------------------------\u001b[0m",
      "\u001b[1;31mValueError\u001b[0m                                Traceback (most recent call last)",
      "Cell \u001b[1;32mIn[11], line 1\u001b[0m\n\u001b[1;32m----> 1\u001b[0m arr3 \u001b[38;5;241m=\u001b[39m \u001b[43mnp\u001b[49m\u001b[38;5;241;43m.\u001b[39;49m\u001b[43marray\u001b[49m\u001b[43m(\u001b[49m\u001b[43m[\u001b[49m\u001b[43m[\u001b[49m\u001b[38;5;241;43m1\u001b[39;49m\u001b[43m,\u001b[49m\u001b[38;5;241;43m2\u001b[39;49m\u001b[43m,\u001b[49m\u001b[38;5;241;43m3\u001b[39;49m\u001b[43m,\u001b[49m\u001b[38;5;241;43m4\u001b[39;49m\u001b[43m]\u001b[49m\u001b[43m,\u001b[49m\u001b[43m[\u001b[49m\u001b[38;5;241;43m5\u001b[39;49m\u001b[43m,\u001b[49m\u001b[38;5;241;43m6\u001b[39;49m\u001b[43m,\u001b[49m\u001b[38;5;241;43m7\u001b[39;49m\u001b[43m,\u001b[49m\u001b[38;5;241;43m8\u001b[39;49m\u001b[43m]\u001b[49m\u001b[43m,\u001b[49m\u001b[43m[\u001b[49m\u001b[38;5;241;43m10\u001b[39;49m\u001b[43m,\u001b[49m\u001b[38;5;241;43m11\u001b[39;49m\u001b[43m,\u001b[49m\u001b[38;5;241;43m12\u001b[39;49m\u001b[43m]\u001b[49m\u001b[43m]\u001b[49m\u001b[43m)\u001b[49m\n\u001b[0;32m      2\u001b[0m \u001b[38;5;28mprint\u001b[39m(arr3)\n\u001b[0;32m      3\u001b[0m \u001b[38;5;28mprint\u001b[39m(\u001b[38;5;28mtype\u001b[39m(arr3))\n",
      "\u001b[1;31mValueError\u001b[0m: setting an array element with a sequence. The requested array has an inhomogeneous shape after 1 dimensions. The detected shape was (3,) + inhomogeneous part."
     ]
    }
   ],
   "source": [
    "arr3 = np.array([[1,2,3,4],[5,6,7,8],[10,11,12]])\n",
    "print(arr3)\n",
    "print(type(arr3))"
   ]
  },
  {
   "cell_type": "code",
   "execution_count": 13,
   "id": "28676b35-341c-4867-aec6-259cae0fa8bf",
   "metadata": {},
   "outputs": [
    {
     "name": "stdout",
     "output_type": "stream",
     "text": [
      "[1 2 3 4 5]\n",
      "[4 5]\n",
      "[1 2 3]\n",
      "[5 4 3 2 1]\n"
     ]
    }
   ],
   "source": [
    "arr = np.array([1,2,3,4,5])\n",
    "print(arr[:])\n",
    "print(arr[3:])\n",
    "print(arr[:3])\n",
    "print(arr[::-1])"
   ]
  },
  {
   "cell_type": "code",
   "execution_count": 30,
   "id": "5faf107d-ce8b-40ed-91cc-f5aa2eabb2e4",
   "metadata": {},
   "outputs": [],
   "source": [
    "arr = np.array([[[1,2],[3,4],[5,6],[7,8]],[[9,10],[11,12],[13,14],[15,16]],[[17,18],[19,20],[21,22],[23,24]],[[25,26],[27,28],[29,30],[31,32]]])"
   ]
  },
  {
   "cell_type": "code",
   "execution_count": 31,
   "id": "6d7a3401-300a-4f71-aede-b6629d278c31",
   "metadata": {},
   "outputs": [
    {
     "name": "stdout",
     "output_type": "stream",
     "text": [
      "[[[ 3  4]\n",
      "  [ 5  6]]\n",
      "\n",
      " [[11 12]\n",
      "  [13 14]]\n",
      "\n",
      " [[19 20]\n",
      "  [21 22]]\n",
      "\n",
      " [[27 28]\n",
      "  [29 30]]]\n",
      "[23 24]\n",
      "[29 30]\n",
      "30\n",
      "23\n"
     ]
    }
   ],
   "source": [
    "print(arr[0:4, 1:3])\n",
    "print(arr[2, 3])\n",
    "print(arr[3][2])\n",
    "print(arr[3,2,1])\n",
    "print(arr[2][3][0])\n",
    "# array[rows, cols]"
   ]
  },
  {
   "cell_type": "code",
   "execution_count": 49,
   "id": "31f0e30a-562f-401f-a4ba-59001b8c74ac",
   "metadata": {},
   "outputs": [
    {
     "name": "stdout",
     "output_type": "stream",
     "text": [
      "(6,)\n",
      "6\n",
      "1\n",
      "int64\n",
      "6\n",
      "<class 'numpy.ndarray'>\n",
      "int64\n",
      "<class 'numpy.ndarray'>\n",
      "int64\n",
      "<class 'numpy.ndarray'>\n",
      "float64\n"
     ]
    }
   ],
   "source": [
    "print(np.shape(arr))       # Shape - dimensions + structure \n",
    "print(np.size(arr))        # Number of elements\n",
    "print(np.ndim(arr))        # Dimensions - 3D\n",
    "print(arr.dtype)           # Datatype of array element\n",
    "print(len(arr))            # Length of array, initial rows\n",
    "print(type(arr))           # Datatype of array\n",
    "print(arr.dtype)\n",
    "b = arr.astype(float)          # Convert on array to different type\n",
    "print(type(arr))\n",
    "print(arr.dtype)\n",
    "print(type(b))\n",
    "print(b.dtype)"
   ]
  },
  {
   "cell_type": "code",
   "execution_count": 52,
   "id": "f0333850-5443-4111-8d28-f22b2d72eb73",
   "metadata": {},
   "outputs": [
    {
     "name": "stdout",
     "output_type": "stream",
     "text": [
      "['1.9' '2.8' '3.7' '4.6' '5.5' '6.4']\n",
      "(6,)\n"
     ]
    },
    {
     "ename": "ValueError",
     "evalue": "invalid literal for int() with base 10: np.str_('1.9')",
     "output_type": "error",
     "traceback": [
      "\u001b[1;31m---------------------------------------------------------------------------\u001b[0m",
      "\u001b[1;31mValueError\u001b[0m                                Traceback (most recent call last)",
      "Cell \u001b[1;32mIn[52], line 6\u001b[0m\n\u001b[0;32m      4\u001b[0m \u001b[38;5;28mprint\u001b[39m(arr)\n\u001b[0;32m      5\u001b[0m \u001b[38;5;28mprint\u001b[39m(arr\u001b[38;5;241m.\u001b[39mshape)\n\u001b[1;32m----> 6\u001b[0m \u001b[43marr\u001b[49m\u001b[38;5;241;43m.\u001b[39;49m\u001b[43mastype\u001b[49m\u001b[43m(\u001b[49m\u001b[38;5;28;43mint\u001b[39;49m\u001b[43m)\u001b[49m                  \u001b[38;5;66;03m# Floor values only\u001b[39;00m\n",
      "\u001b[1;31mValueError\u001b[0m: invalid literal for int() with base 10: np.str_('1.9')"
     ]
    }
   ],
   "source": [
    "# a = [1.9,2.8,3.7,4.6,5.5,6.4]\n",
    "a = ['1.9','2.8','3.7','4.6','5.5','6.4']               # string to int not possible\n",
    "arr = np.array(a)\n",
    "print(arr)\n",
    "print(arr.shape)\n",
    "arr.astype(int)                  # Floor values only"
   ]
  },
  {
   "cell_type": "code",
   "execution_count": 75,
   "id": "c1c662e2-789a-48b8-ae49-8c95676242ea",
   "metadata": {},
   "outputs": [
    {
     "name": "stdout",
     "output_type": "stream",
     "text": [
      "[[10 10]\n",
      " [10 10]]\n",
      "[[10 10]\n",
      " [10 10]]\n",
      "[[8 6]\n",
      " [4 2]]\n",
      "[[-8 -6]\n",
      " [-4 -2]]\n",
      "[[6 7]\n",
      " [8 9]]\n",
      "[[4 3]\n",
      " [2 1]]\n",
      "[[ 9 16]\n",
      " [21 24]]\n",
      "[[ 9 16]\n",
      " [21 24]]\n",
      "[[ 5 10]\n",
      " [15 20]]\n",
      "[[ 5 10]\n",
      " [15 20]]\n",
      "[[9.         4.        ]\n",
      " [2.33333333 1.5       ]]\n",
      "[[9.         4.        ]\n",
      " [2.33333333 1.5       ]]\n",
      "[[0.2 0.4]\n",
      " [0.6 0.8]]\n",
      "[[0.2 0.4]\n",
      " [0.6 0.8]]\n",
      "[[   9   64]\n",
      " [ 343 1296]]\n",
      "[[   9   64]\n",
      " [ 343 1296]]\n",
      "[[   1   32]\n",
      " [ 243 1024]]\n",
      "[[   1   32]\n",
      " [ 243 1024]]\n",
      "[[3 2]\n",
      " [2 2]]\n"
     ]
    }
   ],
   "source": [
    "# Mathematical Operation\n",
    "\n",
    "a = np.array([[1,2],[3,4]])\n",
    "b = np.array([[9,8],[7,6]])\n",
    "c = np.array([5])\n",
    "\n",
    "print(a+b)                       # operation\n",
    "print(np.add(a,b))               # function\n",
    "print(b-a)\n",
    "print(np.subtract(a,b))\n",
    "print(a+c)\n",
    "print(np.subtract(b,c))\n",
    "\n",
    "print(a*b)\n",
    "print(np.multiply(a,b))\n",
    "print(a*c)\n",
    "print(np.multiply(a,c))\n",
    "\n",
    "print(b/a)\n",
    "print(np.divide(b,a))\n",
    "print(a/c)\n",
    "print(np.divide(a,c))\n",
    "\n",
    "print(b**a)\n",
    "print(np.power(b,a))\n",
    "print(a**c)\n",
    "print(np.power(a,c))\n",
    "\n",
    "print((np.sqrt(b)).astype(int))              #In float"
   ]
  },
  {
   "cell_type": "code",
   "execution_count": 11,
   "id": "c8074834-f741-4b7f-80a6-d7528430a0ee",
   "metadata": {},
   "outputs": [
    {
     "name": "stdout",
     "output_type": "stream",
     "text": [
      "[30 40 50 35 45]\n",
      "[30 40 50 35 45]\n",
      "[[1 2]\n",
      " [3 4]\n",
      " [5 6]\n",
      " [7 8]]\n",
      "[[1 2 5 6]\n",
      " [3 4 7 8]]\n",
      "[[1 2 5 6]\n",
      " [3 4 7 8]]\n",
      "[[1 2]\n",
      " [3 4]\n",
      " [5 6]\n",
      " [7 8]]\n"
     ]
    }
   ],
   "source": [
    "# Combining Arrays\n",
    "\n",
    "a1 = np.array([30,40,50])\n",
    "a2 = np.array([35,45])\n",
    "print(np.concatenate([a1,a2]))\n",
    "print(np.concatenate([a1,a2], axis = 0))\n",
    "b1 = np.array([[1,2],[3,4]])\n",
    "b2 = np.array([[5,6],[7,8]])\n",
    "print(np.concatenate([b1,b2], axis = 0))\n",
    "print(np.concatenate([b1,b2], axis = 1))\n",
    "print(np.hstack([b1,b2]))                       # horizontal stack / concatenation   - axis = 1\n",
    "print(np.vstack([b1,b2]))                       # vertical stack / concatenation     - axis = 0"
   ]
  },
  {
   "cell_type": "code",
   "execution_count": 24,
   "id": "0c920b58-d998-4a50-a5a4-8d5eaa4f1481",
   "metadata": {},
   "outputs": [
    {
     "name": "stdout",
     "output_type": "stream",
     "text": [
      "[array([1, 2]), array([3, 4]), array([5, 6]), array([7]), array([8]), array([9]), array([10])]\n",
      "[array([[1, 2, 3]]), array([[4, 5, 6]]), array([[7, 8, 9]]), array([[10, 11, 12]])]\n",
      "[array([[1, 2, 3]]), array([[4, 5, 6]]), array([[7, 8, 9]]), array([[10, 11, 12]]), array([], shape=(0, 3), dtype=int64)]\n"
     ]
    }
   ],
   "source": [
    "# Splitting Arrays\n",
    "\n",
    "s1 = np.array([1,2,3,4,5,6,7,8,9,10])\n",
    "print(np.array_split(s1,7))               # np.array_split(array_name, no.of arrays to be formed)\n",
    "s2 = np.array([[1,2,3],[4,5,6],[7,8,9],[10,11,12]])\n",
    "print(np.array_split(s2,4))\n",
    "print(np.array_split(s2,5))"
   ]
  },
  {
   "cell_type": "code",
   "execution_count": 46,
   "id": "8839cc16-cc42-4c4b-9704-28cb86d47775",
   "metadata": {},
   "outputs": [
    {
     "name": "stdout",
     "output_type": "stream",
     "text": [
      "[20 40 60 80 90 70 30 40]\n",
      "[20 40 50 60 80]\n",
      "[[20 40]\n",
      " [60 80]\n",
      " [50 50]]\n",
      "[[20 40]\n",
      " [60 80]\n",
      " [50 70]]\n",
      "[[50 50]\n",
      " [20 40]\n",
      " [60 80]\n",
      " [50 50]]\n",
      "[[50 70]\n",
      " [20 40]\n",
      " [60 80]\n",
      " [50 70]]\n",
      "[[20 40 50]\n",
      " [60 80 50]]\n",
      "[[20 40 50]\n",
      " [60 80 70]]\n",
      "[[20 40]]\n",
      "[[20]\n",
      " [60]]\n"
     ]
    }
   ],
   "source": [
    "# Adding and Removing Elements in the Arrays\n",
    "\n",
    "# np.append(array_name, [elements])        - At last  - 2D -> 1D then append\n",
    "# np.insert(array_name, [position], [element])        - End result 1D if axis not defined \n",
    "# np.delete(array_name, [index])\n",
    "\n",
    "a = np.array([[20,40],[60,80]])\n",
    "\n",
    "print(np.append(a,[90,70,30,40]))\n",
    "\n",
    "print(np.insert(a, 2, 50))\n",
    "print(np.insert(a, 2, [50], axis=0))\n",
    "print(np.insert(a, 2, [50,70], axis=0))\n",
    "print(np.insert(a, [0,2], [50], axis=0))\n",
    "print(np.insert(a, [0,2], [50,70], axis=0))\n",
    "print(np.insert(a, 2, [50], axis=1))\n",
    "print(np.insert(a, 2, [50,70], axis=1))\n",
    "\n",
    "# print(np.delete(a,[1,2]))\n",
    "print(np.delete(a, 1, axis=0))\n",
    "print(np.delete(a, 1, axis=1))"
   ]
  },
  {
   "cell_type": "code",
   "execution_count": 5,
   "id": "923dca1c-0f43-40ac-b0dc-763fe200cc5f",
   "metadata": {},
   "outputs": [
    {
     "name": "stdout",
     "output_type": "stream",
     "text": [
      "[[1 2 3 4 6 7]\n",
      " [1 2 3 5 6 8]]\n",
      "(array([0, 0, 0, 1, 1, 1]), array([1, 2, 3, 2, 3, 4]))\n",
      "4\n",
      "[1 3 5 7]\n",
      "[5 6 7 8]\n",
      "[2 4 6 8]\n"
     ]
    }
   ],
   "source": [
    "# Sort, Filter, Search\n",
    "\n",
    "s1 = np.array([[7,4,6,2,1,3],[3,5,2,8,6,1]])\n",
    "\n",
    "print(np.sort(s1))\n",
    "\n",
    "s2 = np.where(s1%2 == 0)\n",
    "print(s2)        # (array([all_rows]), array([all_cols]))\n",
    "\n",
    "# Search_sorted\n",
    "s3 = np.array([1,2,3,4,5,6,7,8])           # All ways sorted array\n",
    "ss = np.searchsorted(s3,5)\n",
    "print(ss)\n",
    "\n",
    "s4_filter = [True, False, True, False, True, False, True, False]\n",
    "s4 = s3[s4_filter]\n",
    "print(s4)\n",
    "\n",
    "fiter_array_1 = s3>4\n",
    "s5 = s3[fiter_array_1]\n",
    "filter_array_2 = s3%2==0\n",
    "s6 = s3[filter_array_2]\n",
    "print(s5)\n",
    "print(s6)"
   ]
  },
  {
   "cell_type": "code",
   "execution_count": 23,
   "id": "be3072b9-f143-4f94-b2ca-15d8eb12e0da",
   "metadata": {},
   "outputs": [
    {
     "name": "stdout",
     "output_type": "stream",
     "text": [
      "200\n",
      "60\n",
      "20\n",
      "5\n",
      "40.0\n",
      "[ 20  50  90 140 200]\n",
      "[      20      600    24000  1200000 72000000]\n",
      "[100 200 300 400 500 600] \n",
      " [6 5 4 3 2 1]\n",
      "[[ 100  200  300  400  500  600]\n",
      " [ 600 1000 1200 1200 1000  600]]\n",
      "5600\n"
     ]
    }
   ],
   "source": [
    "# Aggregating Functions in Arrays\n",
    "\n",
    "a = np.array([20,30,40,50,60])\n",
    "print(np.sum(a))\n",
    "print(np.max(a))\n",
    "print(np.min(a))\n",
    "print(np.size(a))\n",
    "print(np.mean(a))\n",
    "print(np.cumsum(a))\n",
    "print(np.cumprod(a))\n",
    "\n",
    "b = np.array([100,200,300,400,500,600])\n",
    "c = np.array([6,5,4,3,2,1])\n",
    "price = np.array(b)\n",
    "quantity = np.array(c)\n",
    "print(price, \"\\n\" , quantity)\n",
    "c = np.cumprod([price, quantity], axis = 0)\n",
    "print(c)\n",
    "print(c[1].sum())"
   ]
  },
  {
   "cell_type": "code",
   "execution_count": 35,
   "id": "3f930586-f51d-4256-b369-dfdab4a91d96",
   "metadata": {},
   "outputs": [
    {
     "name": "stdout",
     "output_type": "stream",
     "text": [
      "207.8\n",
      "184.0\n",
      "300\n",
      "59.190877675533756\n",
      "3503.56\n",
      "[[1.         0.99015454]\n",
      " [0.99015454 1.        ]]\n"
     ]
    }
   ],
   "source": [
    "# Statistical Functions in Arrays\n",
    "\n",
    "import statistics as stats\n",
    "\n",
    "baked_food = [200, 300, 150, 180, 280, 130, 170, 188, 180, 300]\n",
    "a = np.array(baked_food)\n",
    "print(np.mean(baked_food))\n",
    "print(np.median(baked_food))            # Sort - then center\n",
    "print(stats.mode(baked_food))\n",
    "print(np.std(baked_food))              # how much your data is spread\n",
    "print(np.var(baked_food))              # std^2 = var\n",
    "\n",
    "tobacoo_consumption = [30, 50, 10, 30, 50, 40]\n",
    "deaths = [100, 120, 70, 100, 120, 112]\n",
    "\n",
    "# Coffeciant of corelation -> \n",
    "#     (Strong relationship of inversely proportional) -1 < x < 1 (Strong relationship of proportional)    \n",
    "#     [ 0 - Neutral, No relation]\n",
    "\n",
    "print(np.corrcoef([tobacoo_consumption, deaths]))             "
   ]
  },
  {
   "cell_type": "code",
   "execution_count": null,
   "id": "d6216424-f931-4100-8918-e07764975585",
   "metadata": {},
   "outputs": [],
   "source": []
  }
 ],
 "metadata": {
  "kernelspec": {
   "display_name": "Python 3 (ipykernel)",
   "language": "python",
   "name": "python3"
  },
  "language_info": {
   "codemirror_mode": {
    "name": "ipython",
    "version": 3
   },
   "file_extension": ".py",
   "mimetype": "text/x-python",
   "name": "python",
   "nbconvert_exporter": "python",
   "pygments_lexer": "ipython3",
   "version": "3.12.3"
  }
 },
 "nbformat": 4,
 "nbformat_minor": 5
}
